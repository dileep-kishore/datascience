{
 "cells": [
  {
   "cell_type": "code",
   "execution_count": 1,
   "metadata": {
    "collapsed": true
   },
   "outputs": [],
   "source": [
    "import pandas as pd"
   ]
  },
  {
   "cell_type": "code",
   "execution_count": 2,
   "metadata": {
    "collapsed": true
   },
   "outputs": [],
   "source": [
    "DATAPATH = '../data/stack-overflow-2018-developer-survey/survey_results_public.csv'"
   ]
  },
  {
   "cell_type": "code",
   "execution_count": 3,
   "metadata": {},
   "outputs": [
    {
     "name": "stderr",
     "output_type": "stream",
     "text": [
      "/usr/lib/python3.6/site-packages/IPython/core/interactiveshell.py:2785: DtypeWarning: Columns (8,12,13,14,15,16,50,51,52,53,55,56,57,58,59,60,61,62,63,64,65,66,67,68,69,70,71,72,73,74,75,76,77,78,79,80,81,82,83,84,85,93,94,95,96,97,98,99,100,101,102,103,104,105,106,107,108,109,110,111,112,113,114,115,116,117,118,119,120,121,122,123,124,125,126,127,128) have mixed types. Specify dtype option on import or set low_memory=False.\n",
      "  interactivity=interactivity, compiler=compiler, result=result)\n"
     ]
    }
   ],
   "source": [
    "data = pd.read_csv(DATAPATH, index_col=0)"
   ]
  },
  {
   "cell_type": "code",
   "execution_count": 4,
   "metadata": {
    "collapsed": true
   },
   "outputs": [],
   "source": [
    "open_source_peeps = data[data['OpenSource'] == 'Yes']"
   ]
  },
  {
   "cell_type": "code",
   "execution_count": 6,
   "metadata": {},
   "outputs": [
    {
     "data": {
      "text/plain": [
       "(43086, 128)"
      ]
     },
     "execution_count": 6,
     "metadata": {},
     "output_type": "execute_result"
    }
   ],
   "source": [
    "open_source_peeps.shape"
   ]
  },
  {
   "cell_type": "code",
   "execution_count": 10,
   "metadata": {},
   "outputs": [],
   "source": [
    "fullstudent_opensource = open_source_peeps[open_source_peeps['Student'] == 'Yes, full-time']"
   ]
  },
  {
   "cell_type": "code",
   "execution_count": 17,
   "metadata": {},
   "outputs": [
    {
     "data": {
      "text/plain": [
       "Computer science, computer engineering, or software engineering          4551\n",
       "Information systems, information technology, or system administration     465\n",
       "Another engineering discipline (ex. civil, electrical, mechanical)        406\n",
       "Web development or web design                                             297\n",
       "A natural science (ex. biology, chemistry, physics)                       187\n",
       "Mathematics or statistics                                                 169\n",
       "A business discipline (ex. accounting, finance, marketing)                 64\n",
       "A humanities discipline (ex. literature, history, philosophy)              51\n",
       "A social science (ex. anthropology, psychology, political science)         36\n",
       "A health science (ex. nursing, pharmacy, radiology)                        24\n",
       "I never declared a major                                                   22\n",
       "Fine arts or performing arts (ex. graphic design, music, studio art)       22\n",
       "Name: UndergradMajor, dtype: int64"
      ]
     },
     "execution_count": 17,
     "metadata": {},
     "output_type": "execute_result"
    }
   ],
   "source": [
    "fullstudent_opensource['UndergradMajor'].value_counts()"
   ]
  },
  {
   "cell_type": "code",
   "execution_count": 18,
   "metadata": {},
   "outputs": [
    {
     "data": {
      "text/plain": [
       "Straight or heterosexual                                             55013\n",
       "Bisexual or Queer                                                     1950\n",
       "Gay or Lesbian                                                        1181\n",
       "Asexual                                                                717\n",
       "Straight or heterosexual;Bisexual or Queer                             351\n",
       "Straight or heterosexual;Asexual                                       235\n",
       "Gay or Lesbian;Bisexual or Queer                                        95\n",
       "Straight or heterosexual;Gay or Lesbian;Bisexual or Queer;Asexual       60\n",
       "Bisexual or Queer;Asexual                                               51\n",
       "Gay or Lesbian;Asexual                                                  28\n",
       "Straight or heterosexual;Gay or Lesbian                                 27\n",
       "Straight or heterosexual;Bisexual or Queer;Asexual                      23\n",
       "Straight or heterosexual;Gay or Lesbian;Bisexual or Queer               19\n",
       "Gay or Lesbian;Bisexual or Queer;Asexual                                15\n",
       "Name: SexualOrientation, dtype: int64"
      ]
     },
     "execution_count": 18,
     "metadata": {},
     "output_type": "execute_result"
    }
   ],
   "source": [
    "data['SexualOrientation'].value_counts()"
   ]
  },
  {
   "cell_type": "code",
   "execution_count": 19,
   "metadata": {},
   "outputs": [
    {
     "data": {
      "text/plain": [
       "20 to 99 employees          1160\n",
       "100 to 499 employees         883\n",
       "Fewer than 10 employees      709\n",
       "10 to 19 employees           698\n",
       "10,000 or more employees     501\n",
       "1,000 to 4,999 employees     456\n",
       "500 to 999 employees         300\n",
       "5,000 to 9,999 employees     174\n",
       "Name: CompanySize, dtype: int64"
      ]
     },
     "execution_count": 19,
     "metadata": {},
     "output_type": "execute_result"
    }
   ],
   "source": [
    "fullstudent_opensource['CompanySize'].value_counts()"
   ]
  },
  {
   "cell_type": "code",
   "execution_count": null,
   "metadata": {
    "collapsed": true
   },
   "outputs": [],
   "source": []
  }
 ],
 "metadata": {
  "kernelspec": {
   "display_name": "Python 3",
   "language": "python",
   "name": "python3"
  },
  "language_info": {
   "codemirror_mode": {
    "name": "ipython",
    "version": 3
   },
   "file_extension": ".py",
   "mimetype": "text/x-python",
   "name": "python",
   "nbconvert_exporter": "python",
   "pygments_lexer": "ipython3",
   "version": "3.6.5"
  }
 },
 "nbformat": 4,
 "nbformat_minor": 2
}
